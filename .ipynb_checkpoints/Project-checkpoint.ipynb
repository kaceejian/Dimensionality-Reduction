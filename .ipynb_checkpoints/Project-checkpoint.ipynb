{
 "cells": [
  {
   "cell_type": "markdown",
   "metadata": {},
   "source": [
    "# Dimensionality Reduction using an Autoencoder in Python \n",
    "Welcome to this project. We will introduce the theory behind an autoencoder (AE), its uses, and its advantages over PCA, a common dimensionality reduction technique.\n",
    "\n",
    "## Some Prerequisites\n",
    "- Basic-to-intermediate level understanding of Python\n",
    "- Basic theory of neural networks is beneficial, but not required\n",
    "\n",
    "## Project Outline\n",
    "[**Task 1**](#task1): Package Importing and Introduction to Project\n",
    "\n",
    "[**Task 2**](#task2): Dataset Creation and Preprocessing\n",
    "\n",
    "[**Task 3**](#task3): Create a Baseline Model with PCA\n",
    "\n",
    "[**Task 4**](#task4): Autoencoder Introduction and Training\n",
    "\n",
    "[**Task 5**](#task5): Reducing Dimensionality with AE"
   ]
  },
  {
   "cell_type": "markdown",
   "metadata": {},
   "source": [
    "<a id='task1'></a>\n",
    "# Task 1: Importing and Introduction"
   ]
  },
  {
   "cell_type": "code",
   "execution_count": 2,
   "metadata": {},
   "outputs": [],
   "source": [
    "import matplotlib\n",
    "%matplotlib inline\n",
    "%config InlineBackend.figure_format = 'svg'\n",
    "import matplotlib.pyplot as plt\n",
    "plt.style.use('ggplot')\n",
    "\n",
    "import numpy as np"
   ]
  },
  {
   "cell_type": "code",
   "execution_count": 3,
   "metadata": {},
   "outputs": [],
   "source": [
    "from sklearn.datasets import make_blobs\n",
    "from sklearn.model_selection import train_test_split\n",
    "from sklearn.preprocessing import MinMaxScaler\n",
    "\n",
    "from sklearn.neural_network import MLPRegressor\n",
    "from sklearn.decomposition import PCA\n",
    "\n",
    "from sklearn.metrics import mean_squared_error, silhouette_score"
   ]
  },
  {
   "cell_type": "code",
   "execution_count": 4,
   "metadata": {},
   "outputs": [],
   "source": [
    "# colors\n",
    "cols = ['#1FC17B', '#78FECF', '#555B6E', '#CC998D', '#429EA6',\n",
    "        '#153B50', '#8367C7', '#EE6352', '#C287E8', '#F0A6CA', \n",
    "        '#521945', '#361F27', '#828489', '#9AD2CB', '#EBD494', \n",
    "        '#53599A', '#80DED9', '#EF2D56', '#446DF6', '#AF929D']"
   ]
  },
  {
   "cell_type": "markdown",
   "metadata": {},
   "source": [
    "<a id='task2'></a>\n",
    "# Task 2: Dataset Creation and Preprocessing"
   ]
  },
  {
   "cell_type": "code",
   "execution_count": 5,
   "metadata": {},
   "outputs": [],
   "source": [
    "X, y = make_blobs(n_features=50, centers=20, n_samples=20000, \n",
    "                  cluster_std=0.2, center_box=[-1, 1], random_state=17)"
   ]
  },
  {
   "cell_type": "code",
   "execution_count": 6,
   "metadata": {},
   "outputs": [
    {
     "data": {
      "text/plain": [
       "array([-0.24491985,  0.08099673, -0.36631058, -0.30356551,  0.4029225 ,\n",
       "        0.65687067,  0.92734294,  0.15492068, -1.10501981,  1.2015462 ,\n",
       "        0.09578114, -0.75648951, -0.03483697, -0.59523737,  0.02576486,\n",
       "        0.53523807,  0.08089194, -0.26480015, -0.71277422,  0.07793643,\n",
       "        0.10326661, -0.92311803, -0.18569531, -0.5761846 , -0.78765359,\n",
       "       -0.83055169,  0.04446853, -0.26118528,  0.8337965 , -0.59227263,\n",
       "        0.68834042,  0.17701281,  0.2732509 , -0.00538731,  0.92922794,\n",
       "        0.62743183,  0.85424358,  0.80721711, -1.14219787,  0.28178435,\n",
       "        0.55215801,  0.38500603,  0.19163107,  0.55960783,  0.72073584,\n",
       "       -1.14520866,  1.09184982, -1.04337987,  1.24350139, -0.63786661])"
      ]
     },
     "execution_count": 6,
     "metadata": {},
     "output_type": "execute_result"
    }
   ],
   "source": [
    "X[0]"
   ]
  },
  {
   "cell_type": "markdown",
   "metadata": {},
   "source": [
    "<a id='task3'></a>\n",
    "# Task 3: Baseline Model"
   ]
  },
  {
   "cell_type": "code",
   "execution_count": null,
   "metadata": {},
   "outputs": [],
   "source": []
  },
  {
   "cell_type": "markdown",
   "metadata": {},
   "source": [
    "<a id='task4'></a>\n",
    "# Task 4: Autoencoder Theory and Training\n",
    "![title](Images/ae_viz.pdf)"
   ]
  },
  {
   "cell_type": "code",
   "execution_count": null,
   "metadata": {},
   "outputs": [],
   "source": []
  },
  {
   "cell_type": "markdown",
   "metadata": {},
   "source": [
    "<a id='task5'></a>\n",
    "# Task 5: Reducing Dimensionality with Encoder"
   ]
  },
  {
   "cell_type": "code",
   "execution_count": null,
   "metadata": {},
   "outputs": [],
   "source": []
  },
  {
   "cell_type": "code",
   "execution_count": null,
   "metadata": {},
   "outputs": [],
   "source": []
  },
  {
   "cell_type": "code",
   "execution_count": null,
   "metadata": {},
   "outputs": [],
   "source": []
  },
  {
   "cell_type": "code",
   "execution_count": null,
   "metadata": {},
   "outputs": [],
   "source": []
  },
  {
   "cell_type": "code",
   "execution_count": null,
   "metadata": {},
   "outputs": [],
   "source": []
  },
  {
   "cell_type": "code",
   "execution_count": null,
   "metadata": {},
   "outputs": [],
   "source": []
  },
  {
   "cell_type": "code",
   "execution_count": null,
   "metadata": {},
   "outputs": [],
   "source": []
  }
 ],
 "metadata": {
  "kernelspec": {
   "display_name": "Python 3",
   "language": "python",
   "name": "python3"
  },
  "language_info": {
   "codemirror_mode": {
    "name": "ipython",
    "version": 3
   },
   "file_extension": ".py",
   "mimetype": "text/x-python",
   "name": "python",
   "nbconvert_exporter": "python",
   "pygments_lexer": "ipython3",
   "version": "3.8.8"
  }
 },
 "nbformat": 4,
 "nbformat_minor": 4
}
